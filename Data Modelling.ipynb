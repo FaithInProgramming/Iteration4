{
 "cells": [
  {
   "cell_type": "code",
   "execution_count": 2,
   "metadata": {},
   "outputs": [],
   "source": [
    "import findspark\n",
    "findspark.init('/home/ubuntu/spark-2.1.1-bin-hadoop2.7')\n",
    "import pyspark\n",
    "from pyspark.sql import SparkSession\n",
    "spark = SparkSession.builder.appName('DataModelling').getOrCreate()"
   ]
  },
  {
   "cell_type": "code",
   "execution_count": 3,
   "metadata": {
    "scrolled": true
   },
   "outputs": [
    {
     "name": "stdout",
     "output_type": "stream",
     "text": [
      "root\n",
      " |-- Make: string (nullable = true)\n",
      " |-- ManufactureYear: integer (nullable = true)\n",
      " |-- EngineModel: string (nullable = true)\n",
      " |-- DriverID: string (nullable = true)\n",
      " |-- StartTime: timestamp (nullable = true)\n",
      " |-- StopTime: timestamp (nullable = true)\n",
      " |-- DurationSec: integer (nullable = true)\n",
      " |-- DistanceKm: double (nullable = true)\n",
      " |-- FuelUsedL: double (nullable = true)\n",
      " |-- StartOdoKm: double (nullable = true)\n",
      " |-- IdleTimeSec: integer (nullable = true)\n",
      " |-- Loaded: integer (nullable = true)\n",
      " |-- Stops: integer (nullable = true)\n",
      " |-- MaxRPM: double (nullable = true)\n",
      "\n"
     ]
    }
   ],
   "source": [
    "df = spark.read.csv('Trip.csv', inferSchema=True, header=True)\n",
    "df.printSchema()"
   ]
  },
  {
   "cell_type": "code",
   "execution_count": 4,
   "metadata": {},
   "outputs": [
    {
     "data": {
      "text/plain": [
       "527991"
      ]
     },
     "execution_count": 4,
     "metadata": {},
     "output_type": "execute_result"
    }
   ],
   "source": [
    "#Remove invalid and extreme DurationSec observations\n",
    "df2 = df.filter(\"DurationSec > 0\").filter(\"DurationSec < 35000\")\n",
    "df2.count()"
   ]
  },
  {
   "cell_type": "code",
   "execution_count": 5,
   "metadata": {},
   "outputs": [
    {
     "data": {
      "text/plain": [
       "526058"
      ]
     },
     "execution_count": 5,
     "metadata": {},
     "output_type": "execute_result"
    }
   ],
   "source": [
    "#Remove invalid and extreme IdleTimeSec observations\n",
    "df3 = df2.filter(\"IdleTimeSec > 0\").filter(\"IdleTimeSec < 5000\")\n",
    "df3.count()"
   ]
  },
  {
   "cell_type": "code",
   "execution_count": 6,
   "metadata": {},
   "outputs": [
    {
     "data": {
      "text/plain": [
       "492497"
      ]
     },
     "execution_count": 6,
     "metadata": {},
     "output_type": "execute_result"
    }
   ],
   "source": [
    "#Remove invalid and extreme ManufactureYear observations\n",
    "df4 = df3.filter(\"ManufactureYear > 2001\").filter(\"ManufactureYear < 2020\")\n",
    "df4.count()"
   ]
  },
  {
   "cell_type": "code",
   "execution_count": 6,
   "metadata": {},
   "outputs": [
    {
     "name": "stdout",
     "output_type": "stream",
     "text": [
      "+-----------+------+\n",
      "|EngineModel| count|\n",
      "+-----------+------+\n",
      "|     Type 6|298362|\n",
      "|    Type 13|145289|\n",
      "|     Type 9| 42957|\n",
      "|     Type 5|  4187|\n",
      "|    No Type|   921|\n",
      "|     Type 4|   615|\n",
      "|     Type 8|    76|\n",
      "|     Type 7|    43|\n",
      "|     Type 1|    16|\n",
      "|     Type 2|    12|\n",
      "|    Type 11|     6|\n",
      "|    Type 12|     6|\n",
      "|     Type 3|     4|\n",
      "|    Type 10|     3|\n",
      "+-----------+------+\n",
      "\n"
     ]
    }
   ],
   "source": [
    "df4.groupby(\"EngineModel\").count().orderBy(\"count\", ascending=False).show()"
   ]
  },
  {
   "cell_type": "code",
   "execution_count": 7,
   "metadata": {},
   "outputs": [
    {
     "name": "stdout",
     "output_type": "stream",
     "text": [
      "+-----------+------+\n",
      "|EngineModel| count|\n",
      "+-----------+------+\n",
      "|     Type 6|298362|\n",
      "|    Type 13|145289|\n",
      "|     Type 5|  4187|\n",
      "|     Type 4|   615|\n",
      "|     Type 8|    76|\n",
      "|     Type 7|    43|\n",
      "+-----------+------+\n",
      "\n"
     ]
    }
   ],
   "source": [
    "from pyspark.sql.functions import col\n",
    "df5 = df4.where(col(\"EngineModel\").isin({\"Type 6\", \"Type 13\", \"Type 5\", \"Type 4\", \"Type 8\", \"Type 7\"}))\n",
    "df5.groupby(\"EngineModel\").count().orderBy(\"count\", ascending=False).show()"
   ]
  },
  {
   "cell_type": "code",
   "execution_count": 8,
   "metadata": {},
   "outputs": [
    {
     "name": "stdout",
     "output_type": "stream",
     "text": [
      "+-------+------+\n",
      "|   Make| count|\n",
      "+-------+------+\n",
      "|No Make|422373|\n",
      "| Make 1| 23807|\n",
      "| Make 2|  1836|\n",
      "| Make 3|   556|\n",
      "+-------+------+\n",
      "\n"
     ]
    }
   ],
   "source": [
    "df5.groupby(\"Make\").count().orderBy(\"count\", ascending=False).show()"
   ]
  },
  {
   "cell_type": "code",
   "execution_count": 8,
   "metadata": {},
   "outputs": [
    {
     "data": {
      "text/plain": [
       "448369"
      ]
     },
     "execution_count": 8,
     "metadata": {},
     "output_type": "execute_result"
    }
   ],
   "source": [
    "df6 = df5.filter(\"DistanceKm < 800\").filter(\"DistanceKm > 0\")\n",
    "df6.count()"
   ]
  },
  {
   "cell_type": "code",
   "execution_count": 9,
   "metadata": {},
   "outputs": [
    {
     "data": {
      "text/plain": [
       "448265"
      ]
     },
     "execution_count": 9,
     "metadata": {},
     "output_type": "execute_result"
    }
   ],
   "source": [
    "df7 = df6.filter(\"FuelUsedL < 250\")\n",
    "df7.count()"
   ]
  },
  {
   "cell_type": "code",
   "execution_count": 10,
   "metadata": {},
   "outputs": [
    {
     "data": {
      "text/plain": [
       "448173"
      ]
     },
     "execution_count": 10,
     "metadata": {},
     "output_type": "execute_result"
    }
   ],
   "source": [
    "df8 = df7.filter(\"MaxRPM < 2500\").filter(\"MaxRPM > 1250\")\n",
    "df8.count()"
   ]
  },
  {
   "cell_type": "code",
   "execution_count": 11,
   "metadata": {},
   "outputs": [
    {
     "data": {
      "text/plain": [
       "438754"
      ]
     },
     "execution_count": 11,
     "metadata": {},
     "output_type": "execute_result"
    }
   ],
   "source": [
    "df9 = df8.filter(\"Stops < 15\")\n",
    "df9.count()"
   ]
  },
  {
   "cell_type": "code",
   "execution_count": 12,
   "metadata": {
    "scrolled": true
   },
   "outputs": [
    {
     "name": "stdout",
     "output_type": "stream",
     "text": [
      "root\n",
      " |-- Make: string (nullable = true)\n",
      " |-- ManufactureYear: integer (nullable = true)\n",
      " |-- EngineModel: string (nullable = true)\n",
      " |-- StartTime: timestamp (nullable = true)\n",
      " |-- StopTime: timestamp (nullable = true)\n",
      " |-- DurationSec: integer (nullable = true)\n",
      " |-- DistanceKm: double (nullable = true)\n",
      " |-- FuelUsedL: double (nullable = true)\n",
      " |-- StartOdoKm: double (nullable = true)\n",
      " |-- IdleTimeSec: integer (nullable = true)\n",
      " |-- Stops: integer (nullable = true)\n",
      " |-- MaxRPM: double (nullable = true)\n",
      "\n"
     ]
    }
   ],
   "source": [
    "df10 = df9.drop(\"DriverID\")\n",
    "df11 = df10.drop(\"Loaded\")\n",
    "df11.printSchema()"
   ]
  },
  {
   "cell_type": "code",
   "execution_count": 13,
   "metadata": {},
   "outputs": [
    {
     "data": {
      "text/plain": [
       "438754"
      ]
     },
     "execution_count": 13,
     "metadata": {},
     "output_type": "execute_result"
    }
   ],
   "source": [
    "df12 = df11.na.drop()\n",
    "df12.count()"
   ]
  },
  {
   "cell_type": "code",
   "execution_count": 15,
   "metadata": {},
   "outputs": [
    {
     "name": "stdout",
     "output_type": "stream",
     "text": [
      "root\n",
      " |-- Make: string (nullable = true)\n",
      " |-- ManufactureYear: integer (nullable = true)\n",
      " |-- EngineModel: string (nullable = true)\n",
      " |-- StartTime: timestamp (nullable = true)\n",
      " |-- StopTime: timestamp (nullable = true)\n",
      " |-- DurationSec: integer (nullable = true)\n",
      " |-- DistanceKm: double (nullable = true)\n",
      " |-- FuelUsedL: double (nullable = true)\n",
      " |-- StartOdoKm: double (nullable = true)\n",
      " |-- IdleTimeSec: integer (nullable = true)\n",
      " |-- Stops: integer (nullable = true)\n",
      " |-- MaxRPM: double (nullable = true)\n",
      "\n"
     ]
    }
   ],
   "source": [
    "df12.printSchema()"
   ]
  },
  {
   "cell_type": "code",
   "execution_count": 16,
   "metadata": {},
   "outputs": [
    {
     "name": "stdout",
     "output_type": "stream",
     "text": [
      "+-----------+------+\n",
      "|EngineModel| count|\n",
      "+-----------+------+\n",
      "|     Type 6|291746|\n",
      "|    Type 13|142225|\n",
      "|     Type 5|  4085|\n",
      "|     Type 4|   611|\n",
      "|     Type 8|    64|\n",
      "|     Type 7|    23|\n",
      "+-----------+------+\n",
      "\n"
     ]
    }
   ],
   "source": [
    "df12.groupby(\"EngineModel\").count().orderBy(\"count\", ascending=False).show()"
   ]
  },
  {
   "cell_type": "code",
   "execution_count": 14,
   "metadata": {},
   "outputs": [
    {
     "data": {
      "text/plain": [
       "291746"
      ]
     },
     "execution_count": 14,
     "metadata": {},
     "output_type": "execute_result"
    }
   ],
   "source": [
    "from pyspark.sql.functions import lit\n",
    "type6 = df12.where(col(\"EngineModel\").isin({\"Type 6\"})).withColumn(\"EngineModelNum\",lit(6))\n",
    "type6.count()"
   ]
  },
  {
   "cell_type": "code",
   "execution_count": 15,
   "metadata": {},
   "outputs": [
    {
     "data": {
      "text/plain": [
       "142225"
      ]
     },
     "execution_count": 15,
     "metadata": {},
     "output_type": "execute_result"
    }
   ],
   "source": [
    "type13 = df12.where(col(\"EngineModel\").isin({\"Type 13\"})).withColumn(\"EngineModelNum\",lit(13))\n",
    "type13.count()"
   ]
  },
  {
   "cell_type": "code",
   "execution_count": 16,
   "metadata": {},
   "outputs": [
    {
     "data": {
      "text/plain": [
       "4085"
      ]
     },
     "execution_count": 16,
     "metadata": {},
     "output_type": "execute_result"
    }
   ],
   "source": [
    "type5 = df12.where(col(\"EngineModel\").isin({\"Type 5\"})).withColumn(\"EngineModelNum\",lit(5))\n",
    "type5.count()"
   ]
  },
  {
   "cell_type": "code",
   "execution_count": 17,
   "metadata": {},
   "outputs": [
    {
     "data": {
      "text/plain": [
       "611"
      ]
     },
     "execution_count": 17,
     "metadata": {},
     "output_type": "execute_result"
    }
   ],
   "source": [
    "type4 = df12.where(col(\"EngineModel\").isin({\"Type 4\"})).withColumn(\"EngineModelNum\",lit(4))\n",
    "type4.count()"
   ]
  },
  {
   "cell_type": "code",
   "execution_count": 18,
   "metadata": {},
   "outputs": [
    {
     "data": {
      "text/plain": [
       "64"
      ]
     },
     "execution_count": 18,
     "metadata": {},
     "output_type": "execute_result"
    }
   ],
   "source": [
    "type8 = df12.where(col(\"EngineModel\").isin({\"Type 8\"})).withColumn(\"EngineModelNum\",lit(8))\n",
    "type8.count()"
   ]
  },
  {
   "cell_type": "code",
   "execution_count": 19,
   "metadata": {},
   "outputs": [
    {
     "data": {
      "text/plain": [
       "23"
      ]
     },
     "execution_count": 19,
     "metadata": {},
     "output_type": "execute_result"
    }
   ],
   "source": [
    "type7 = df12.where(col(\"EngineModel\").isin({\"Type 7\"})).withColumn(\"EngineModelNum\",lit(7))\n",
    "type7.count()"
   ]
  },
  {
   "cell_type": "code",
   "execution_count": 20,
   "metadata": {},
   "outputs": [
    {
     "data": {
      "text/plain": [
       "291651"
      ]
     },
     "execution_count": 20,
     "metadata": {},
     "output_type": "execute_result"
    }
   ],
   "source": [
    "type13_2 = type13.sample(True, 291746/142225, 100)\n",
    "type13_2.count()"
   ]
  },
  {
   "cell_type": "code",
   "execution_count": 21,
   "metadata": {},
   "outputs": [
    {
     "data": {
      "text/plain": [
       "291460"
      ]
     },
     "execution_count": 21,
     "metadata": {},
     "output_type": "execute_result"
    }
   ],
   "source": [
    "type5_2 = type5.sample(True, 291746/4085, 100)\n",
    "type5_2.count()"
   ]
  },
  {
   "cell_type": "code",
   "execution_count": 22,
   "metadata": {},
   "outputs": [
    {
     "data": {
      "text/plain": [
       "291934"
      ]
     },
     "execution_count": 22,
     "metadata": {},
     "output_type": "execute_result"
    }
   ],
   "source": [
    "type4_2 = type4.sample(True, 291746/611, 100)\n",
    "type4_2.count()"
   ]
  },
  {
   "cell_type": "code",
   "execution_count": 23,
   "metadata": {},
   "outputs": [
    {
     "data": {
      "text/plain": [
       "292418"
      ]
     },
     "execution_count": 23,
     "metadata": {},
     "output_type": "execute_result"
    }
   ],
   "source": [
    "type8_2 = type8.sample(True, 291746/64, 100)\n",
    "type8_2.count()"
   ]
  },
  {
   "cell_type": "code",
   "execution_count": 24,
   "metadata": {},
   "outputs": [
    {
     "data": {
      "text/plain": [
       "291542"
      ]
     },
     "execution_count": 24,
     "metadata": {},
     "output_type": "execute_result"
    }
   ],
   "source": [
    "type7_2 = type7.sample(True, 291746/23, 100)\n",
    "type7_2.count()"
   ]
  },
  {
   "cell_type": "code",
   "execution_count": 25,
   "metadata": {},
   "outputs": [
    {
     "name": "stdout",
     "output_type": "stream",
     "text": [
      "+-----------+------+\n",
      "|EngineModel| count|\n",
      "+-----------+------+\n",
      "|     Type 8|292418|\n",
      "|     Type 4|291934|\n",
      "|     Type 6|291746|\n",
      "|    Type 13|291651|\n",
      "|     Type 7|291542|\n",
      "|     Type 5|291460|\n",
      "+-----------+------+\n",
      "\n"
     ]
    }
   ],
   "source": [
    "dfAll = type6.union(type13_2).union(type5_2).union(type4_2).union(type8_2).union(type7_2)\n",
    "dfAll.groupby(\"EngineModel\").count().orderBy(\"count\", ascending=False).show()"
   ]
  },
  {
   "cell_type": "code",
   "execution_count": 26,
   "metadata": {
    "scrolled": false
   },
   "outputs": [
    {
     "data": {
      "text/plain": [
       "Row(Make='No Make', ManufactureYear=2015, EngineModel='Type 6', StartTime=datetime.datetime(2019, 7, 27, 4, 39, 15), StopTime=datetime.datetime(2019, 7, 27, 6, 44, 56), DurationSec=7541, DistanceKm=200.47, FuelUsedL=66.98, StartOdoKm=963748.96, IdleTimeSec=74, Stops=2, MaxRPM=1486.0, EngineModelNum=6, FuelEfficiency=2.9929829799940277)"
      ]
     },
     "execution_count": 26,
     "metadata": {},
     "output_type": "execute_result"
    }
   ],
   "source": [
    "dfAll2 = dfAll.select('*', (dfAll.DistanceKm/dfAll.FuelUsedL).alias('FuelEfficiency'))\n",
    "dfAll2.head()"
   ]
  },
  {
   "cell_type": "code",
   "execution_count": 27,
   "metadata": {},
   "outputs": [
    {
     "name": "stdout",
     "output_type": "stream",
     "text": [
      "root\n",
      " |-- Make: string (nullable = true)\n",
      " |-- ManufactureYear: integer (nullable = true)\n",
      " |-- EngineModel: string (nullable = true)\n",
      " |-- StartTime: timestamp (nullable = true)\n",
      " |-- StopTime: timestamp (nullable = true)\n",
      " |-- DurationSec: integer (nullable = true)\n",
      " |-- DistanceKm: double (nullable = true)\n",
      " |-- FuelUsedL: double (nullable = true)\n",
      " |-- StartOdoKm: double (nullable = true)\n",
      " |-- IdleTimeSec: integer (nullable = true)\n",
      " |-- Stops: integer (nullable = true)\n",
      " |-- MaxRPM: double (nullable = true)\n",
      " |-- EngineModelNum: integer (nullable = false)\n",
      " |-- FuelEfficiency: double (nullable = true)\n",
      "\n"
     ]
    }
   ],
   "source": [
    "from pyspark.sql.types import IntegerType\n",
    "dfAll2 = dfAll2.withColumn(\"EngineModelNum\", dfAll2[\"EngineModelNum\"].cast(IntegerType()))\n",
    "dfAll2.printSchema()"
   ]
  },
  {
   "cell_type": "code",
   "execution_count": 28,
   "metadata": {},
   "outputs": [
    {
     "name": "stdout",
     "output_type": "stream",
     "text": [
      "root\n",
      " |-- ManufactureYear: integer (nullable = true)\n",
      " |-- EngineModel: string (nullable = true)\n",
      " |-- StartTime: timestamp (nullable = true)\n",
      " |-- StopTime: timestamp (nullable = true)\n",
      " |-- DurationSec: integer (nullable = true)\n",
      " |-- DistanceKm: double (nullable = true)\n",
      " |-- FuelUsedL: double (nullable = true)\n",
      " |-- StartOdoKm: double (nullable = true)\n",
      " |-- IdleTimeSec: integer (nullable = true)\n",
      " |-- Stops: integer (nullable = true)\n",
      " |-- MaxRPM: double (nullable = true)\n",
      " |-- EngineModelNum: integer (nullable = false)\n",
      " |-- FuelEfficiency: double (nullable = true)\n",
      "\n"
     ]
    }
   ],
   "source": [
    "dfAll3 = dfAll2.drop(\"Make\")\n",
    "dfAll3.printSchema()"
   ]
  },
  {
   "cell_type": "code",
   "execution_count": 29,
   "metadata": {},
   "outputs": [
    {
     "name": "stdout",
     "output_type": "stream",
     "text": [
      "root\n",
      " |-- ManufactureYear: integer (nullable = true)\n",
      " |-- StartTime: timestamp (nullable = true)\n",
      " |-- StopTime: timestamp (nullable = true)\n",
      " |-- DurationSec: integer (nullable = true)\n",
      " |-- DistanceKm: double (nullable = true)\n",
      " |-- StartOdoKm: double (nullable = true)\n",
      " |-- IdleTimeSec: integer (nullable = true)\n",
      " |-- Stops: integer (nullable = true)\n",
      " |-- MaxRPM: double (nullable = true)\n",
      " |-- EngineModelNum: integer (nullable = false)\n",
      " |-- FuelEfficiency: double (nullable = true)\n",
      "\n"
     ]
    }
   ],
   "source": [
    "dfAll4 = dfAll3.drop(\"FuelUsedL\")\n",
    "dfAll5 = dfAll4.drop(\"EngineModel\")\n",
    "dfAll5.printSchema()"
   ]
  },
  {
   "cell_type": "code",
   "execution_count": 33,
   "metadata": {},
   "outputs": [
    {
     "data": {
      "text/plain": [
       "67700.0"
      ]
     },
     "execution_count": 33,
     "metadata": {},
     "output_type": "execute_result"
    }
   ],
   "source": [
    "dfAll5.agg({\"FuelEfficiency\": \"max\"}).collect()[0][0]"
   ]
  },
  {
   "cell_type": "code",
   "execution_count": 34,
   "metadata": {},
   "outputs": [
    {
     "data": {
      "text/plain": [
       "50"
      ]
     },
     "execution_count": 34,
     "metadata": {},
     "output_type": "execute_result"
    }
   ],
   "source": [
    "dfAll5.filter(\"FuelEfficiency > 10\").count()"
   ]
  },
  {
   "cell_type": "code",
   "execution_count": 30,
   "metadata": {},
   "outputs": [],
   "source": [
    "dfAll6 = dfAll5.filter(\"FuelEfficiency < 10\")"
   ]
  },
  {
   "cell_type": "code",
   "execution_count": 33,
   "metadata": {},
   "outputs": [],
   "source": [
    "from pyspark.sql.functions import hour\n",
    "final = dfAll6.select('ManufactureYear'\n",
    "                      ,hour('StartTime').alias('StartTimeHour')\n",
    "                      ,hour('StopTime').alias('StopTimeHour')\n",
    "                      ,'DurationSec'\n",
    "                      ,'DistanceKm'\n",
    "                      ,'StartOdoKm'\n",
    "                      ,'IdleTimeSec'\n",
    "                      ,'Stops'\n",
    "                      ,'MaxRPM'\n",
    "                      ,'EngineModelNum'\n",
    "                      ,col('FuelEfficiency').alias('label'))"
   ]
  },
  {
   "cell_type": "code",
   "execution_count": 35,
   "metadata": {},
   "outputs": [
    {
     "data": {
      "text/plain": [
       "1750701"
      ]
     },
     "execution_count": 35,
     "metadata": {},
     "output_type": "execute_result"
    }
   ],
   "source": [
    "final.count()"
   ]
  },
  {
   "cell_type": "code",
   "execution_count": 36,
   "metadata": {},
   "outputs": [],
   "source": [
    "train,test = final.randomSplit([0.7,0.3], 100)"
   ]
  },
  {
   "cell_type": "code",
   "execution_count": 38,
   "metadata": {},
   "outputs": [
    {
     "data": {
      "text/plain": [
       "1224147"
      ]
     },
     "execution_count": 38,
     "metadata": {},
     "output_type": "execute_result"
    }
   ],
   "source": [
    "train.count()"
   ]
  },
  {
   "cell_type": "code",
   "execution_count": 39,
   "metadata": {},
   "outputs": [
    {
     "data": {
      "text/plain": [
       "526554"
      ]
     },
     "execution_count": 39,
     "metadata": {},
     "output_type": "execute_result"
    }
   ],
   "source": [
    "test.count()"
   ]
  },
  {
   "cell_type": "code",
   "execution_count": 37,
   "metadata": {},
   "outputs": [],
   "source": [
    "from pyspark.ml.feature import VectorAssembler\n",
    "assembler = VectorAssembler().setInputCols(['ManufactureYear'\n",
    "                                            ,'StartTimeHour'\n",
    "                                            ,'StopTimeHour'\n",
    "                                            ,'DurationSec'\n",
    "                                            ,'DistanceKm'\n",
    "                                            ,'StartOdoKm'\n",
    "                                            ,'IdleTimeSec'\n",
    "                                            ,'Stops'\n",
    "                                            ,'MaxRPM'\n",
    "                                            ,'EngineModelNum']).setOutputCol('features')"
   ]
  },
  {
   "cell_type": "code",
   "execution_count": 38,
   "metadata": {},
   "outputs": [
    {
     "name": "stdout",
     "output_type": "stream",
     "text": [
      "+--------------------+------------------+\n",
      "|            features|             label|\n",
      "+--------------------+------------------+\n",
      "|[2009.0,0.0,2.0,5...|   3.3267943687976|\n",
      "|[2009.0,0.0,2.0,7...|2.4517665740373165|\n",
      "|[2009.0,0.0,2.0,9...| 2.983807992650436|\n",
      "|[2009.0,0.0,3.0,7...|2.6102774631936576|\n",
      "|[2009.0,0.0,3.0,1...| 3.200555384140697|\n",
      "|[2009.0,0.0,3.0,1...| 3.056904176904177|\n",
      "|[2009.0,1.0,3.0,8...| 2.592090859332239|\n",
      "|[2009.0,1.0,5.0,1...| 2.751948714212865|\n",
      "|[2009.0,1.0,5.0,1...|2.9934026699782676|\n",
      "|[2009.0,2.0,4.0,5...|2.6429868819374374|\n",
      "|[2009.0,2.0,4.0,6...|3.1517422255526415|\n",
      "|[2009.0,2.0,5.0,9...|  2.88475499092559|\n",
      "|[2009.0,2.0,6.0,1...| 2.928304191799649|\n",
      "|[2009.0,3.0,4.0,5...| 3.167464114832536|\n",
      "|[2009.0,4.0,6.0,7...|2.7303998960416673|\n",
      "|[2009.0,4.0,6.0,8...| 2.693421386842774|\n",
      "|[2009.0,5.0,6.0,4...|3.5429958557249295|\n",
      "|[2009.0,5.0,7.0,5...|3.0603174603174605|\n",
      "|[2009.0,5.0,7.0,7...|2.4107026886608653|\n",
      "|[2009.0,5.0,8.0,1...| 2.887261146496815|\n",
      "+--------------------+------------------+\n",
      "only showing top 20 rows\n",
      "\n"
     ]
    }
   ],
   "source": [
    "train2 = assembler.transform(train)\n",
    "train3 = train2.select('features','label')\n",
    "train3.show()"
   ]
  },
  {
   "cell_type": "code",
   "execution_count": 39,
   "metadata": {},
   "outputs": [
    {
     "name": "stdout",
     "output_type": "stream",
     "text": [
      "+--------------------+------------------+\n",
      "|            features|             label|\n",
      "+--------------------+------------------+\n",
      "|[2009.0,0.0,3.0,8...|3.0437869822485206|\n",
      "|[2009.0,1.0,2.0,4...| 3.339280657037666|\n",
      "|[2009.0,1.0,2.0,5...|2.9571917808219177|\n",
      "|[2009.0,1.0,3.0,6...| 2.734478808705613|\n",
      "|[2009.0,2.0,4.0,6...|3.2407407407407405|\n",
      "|[2009.0,2.0,7.0,1...| 3.215968063872255|\n",
      "|[2009.0,3.0,4.0,4...|3.0893796004206098|\n",
      "|[2009.0,3.0,7.0,1...| 2.960147196993423|\n",
      "|[2009.0,5.0,6.0,5...|2.6497677236921833|\n",
      "|[2009.0,5.0,6.0,5...|3.3036688150718887|\n",
      "|[2009.0,7.0,8.0,4...|3.2733612273361223|\n",
      "|[2009.0,7.0,9.0,8...|2.8866911556936987|\n",
      "|[2009.0,7.0,9.0,9...| 4.041855380290489|\n",
      "|[2009.0,8.0,9.0,5...|2.9668311403508776|\n",
      "|[2009.0,8.0,10.0,...| 3.059287531806616|\n",
      "|[2009.0,8.0,11.0,...| 3.260088238459055|\n",
      "|[2009.0,9.0,10.0,...| 3.286251468860165|\n",
      "|[2009.0,9.0,11.0,...| 3.145325472396404|\n",
      "|[2009.0,10.0,12.0...| 4.011396843950906|\n",
      "|[2009.0,10.0,13.0...| 2.845262845262845|\n",
      "+--------------------+------------------+\n",
      "only showing top 20 rows\n",
      "\n"
     ]
    }
   ],
   "source": [
    "test2 = assembler.transform(test)\n",
    "test3 = test2.select('features','label')\n",
    "test3.show()"
   ]
  },
  {
   "cell_type": "code",
   "execution_count": 64,
   "metadata": {},
   "outputs": [],
   "source": [
    "from pyspark.ml.regression import LinearRegression\n",
    "lr = LinearRegression(featuresCol='features', labelCol='label', predictionCol='prediction')"
   ]
  },
  {
   "cell_type": "code",
   "execution_count": 65,
   "metadata": {},
   "outputs": [],
   "source": [
    "# Fit the model to the data.\n",
    "lrModel = lr.fit(train3)"
   ]
  },
  {
   "cell_type": "code",
   "execution_count": 66,
   "metadata": {},
   "outputs": [
    {
     "name": "stdout",
     "output_type": "stream",
     "text": [
      "Coefficients: [-0.00522269017576474,-0.0037607558649900186,0.004484601611952515,2.4930888268065797e-06,-0.0004761530362410274,4.9093101665071176e-08,-0.00016100800562631628,0.01438781127029656,0.001043047912654288,0.0012886581700199862] Intercept: 12.374395690530703\n"
     ]
    }
   ],
   "source": [
    "# Print the coefficients and intercept for linear regression.\n",
    "print(\"Coefficients: {} Intercept: {}\".format(lrModel.coefficients,lrModel.intercept))"
   ]
  },
  {
   "cell_type": "code",
   "execution_count": 67,
   "metadata": {},
   "outputs": [],
   "source": [
    "# Let's evaluate the model against the test data.\n",
    "test_results = lrModel.evaluate(test3)"
   ]
  },
  {
   "cell_type": "code",
   "execution_count": 68,
   "metadata": {},
   "outputs": [
    {
     "name": "stdout",
     "output_type": "stream",
     "text": [
      "RSME: 0.5783728229532074\n"
     ]
    }
   ],
   "source": [
    "# Let's get some evaluation metrics.\n",
    "print(\"RSME: {}\".format(test_results.rootMeanSquaredError))"
   ]
  },
  {
   "cell_type": "code",
   "execution_count": 69,
   "metadata": {},
   "outputs": [
    {
     "name": "stdout",
     "output_type": "stream",
     "text": [
      "+-------+------------------+\n",
      "|summary|             label|\n",
      "+-------+------------------+\n",
      "|  count|           1750701|\n",
      "|   mean|3.5954739260050115|\n",
      "| stddev|0.6985308048074458|\n",
      "|    min|0.9618255125675561|\n",
      "|    max| 8.584776758811211|\n",
      "+-------+------------------+\n",
      "\n"
     ]
    }
   ],
   "source": [
    "final.select('label').describe().show()"
   ]
  },
  {
   "cell_type": "code",
   "execution_count": 70,
   "metadata": {},
   "outputs": [
    {
     "name": "stdout",
     "output_type": "stream",
     "text": [
      "R2: 0.31646807971092716\n"
     ]
    }
   ],
   "source": [
    "# We can also get the R2 value. \n",
    "print(\"R2: {}\".format(test_results.r2))"
   ]
  },
  {
   "cell_type": "code",
   "execution_count": 41,
   "metadata": {},
   "outputs": [],
   "source": [
    "from pyspark.ml.regression import GeneralizedLinearRegression\n",
    "glr = GeneralizedLinearRegression(featuresCol='features', labelCol='label', predictionCol='prediction').setFamily(\"gaussian\")"
   ]
  },
  {
   "cell_type": "code",
   "execution_count": 42,
   "metadata": {},
   "outputs": [],
   "source": [
    "glrModel = glr.fit(train3)"
   ]
  },
  {
   "cell_type": "code",
   "execution_count": 44,
   "metadata": {},
   "outputs": [
    {
     "name": "stdout",
     "output_type": "stream",
     "text": [
      "Coefficients: [-0.00522269017576474,-0.0037607558649900186,0.004484601611952515,2.4930888268065797e-06,-0.0004761530362410274,4.9093101665071176e-08,-0.00016100800562631628,0.01438781127029656,0.001043047912654288,0.0012886581700199862] Intercept: 12.374395690530703\n"
     ]
    }
   ],
   "source": [
    "print(\"Coefficients: {} Intercept: {}\".format(glrModel.coefficients,glrModel.intercept))"
   ]
  },
  {
   "cell_type": "code",
   "execution_count": 45,
   "metadata": {},
   "outputs": [],
   "source": [
    "gtest_results = glrModel.evaluate(test3)"
   ]
  },
  {
   "cell_type": "code",
   "execution_count": 54,
   "metadata": {},
   "outputs": [],
   "source": [
    "summary = glrModel.summary"
   ]
  },
  {
   "cell_type": "code",
   "execution_count": 57,
   "metadata": {},
   "outputs": [
    {
     "name": "stdout",
     "output_type": "stream",
     "text": [
      "Coefficient Standard Errors: [0.00040157651492406086, 9.734479506689995e-05, 9.633732281847847e-05, 1.2740681426848287e-06, 4.424127995630865e-05, 1.890613658756191e-09, 1.911302155315486e-06, 0.000249199347224389, 2.25908935929478e-06, 0.0002372535193524574, 0.8089227621348708]\n",
      "T Values: [-13.005467156744373, -38.63335335397696, 46.55103007587754, 1.9567939447515916, -10.762641512887098, 25.96675499391497, -84.23995399081197, 57.736151521059966, 461.7116664123, 5.431566088196106, 15.297376053398203]\n",
      "P Values: [0.0, 0.0, 0.0, 0.05037192625549336, 0.0, 0.0, 0.0, 0.0, 0.0, 5.5872214632657347e-08, 0.0]\n",
      "Dispersion: 0.33321121237944956\n",
      "Null Deviance: 596554.3716863757\n",
      "Residual Degree Of Freedom Null: 1224146\n",
      "Deviance: 407895.84067732986\n",
      "Residual Degree Of Freedom: 1224136\n",
      "AIC: 2128680.195656531\n",
      "Deviance Residuals: \n",
      "+--------------------+\n",
      "|   devianceResiduals|\n",
      "+--------------------+\n",
      "|-0.00656263439100...|\n",
      "|  -1.181148124296918|\n",
      "| -0.3381561317460209|\n",
      "| -0.8490807102427738|\n",
      "|-0.07507154955992812|\n",
      "|-0.25706980910730426|\n",
      "| -0.9191606189109658|\n",
      "| -0.6353039498631738|\n",
      "|-0.22989413969319772|\n",
      "| -0.7433655421103733|\n",
      "|-0.30445064673299393|\n",
      "| -0.3889019019750548|\n",
      "|  -0.376605395339924|\n",
      "| -0.1886038657526159|\n",
      "| -0.6212644976707566|\n",
      "| -0.6653237277715678|\n",
      "| 0.20141385752817786|\n",
      "|-0.12549494998382604|\n",
      "| -1.2177702603065765|\n",
      "|  -0.868336597881493|\n",
      "+--------------------+\n",
      "only showing top 20 rows\n",
      "\n"
     ]
    }
   ],
   "source": [
    "print(\"Coefficient Standard Errors: \" + str(summary.coefficientStandardErrors))\n",
    "print(\"T Values: \" + str(summary.tValues))\n",
    "print(\"P Values: \" + str(summary.pValues))\n",
    "print(\"Dispersion: \" + str(summary.dispersion))\n",
    "print(\"Null Deviance: \" + str(summary.nullDeviance))\n",
    "print(\"Residual Degree Of Freedom Null: \" + str(summary.residualDegreeOfFreedomNull))\n",
    "print(\"Deviance: \" + str(summary.deviance))\n",
    "print(\"Residual Degree Of Freedom: \" + str(summary.residualDegreeOfFreedom))\n",
    "print(\"AIC: \" + str(summary.aic))\n",
    "print(\"Deviance Residuals: \")\n",
    "summary.residuals().show()"
   ]
  }
 ],
 "metadata": {
  "kernelspec": {
   "display_name": "Python 3",
   "language": "python",
   "name": "python3"
  },
  "language_info": {
   "codemirror_mode": {
    "name": "ipython",
    "version": 3
   },
   "file_extension": ".py",
   "mimetype": "text/x-python",
   "name": "python",
   "nbconvert_exporter": "python",
   "pygments_lexer": "ipython3",
   "version": "3.5.2"
  }
 },
 "nbformat": 4,
 "nbformat_minor": 2
}
