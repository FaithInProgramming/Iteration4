{
 "cells": [
  {
   "cell_type": "code",
   "execution_count": 1,
   "metadata": {},
   "outputs": [],
   "source": [
    "import findspark\n",
    "findspark.init('/home/ubuntu/spark-2.1.1-bin-hadoop2.7')\n",
    "import pyspark\n",
    "from pyspark.sql import SparkSession\n",
    "spark = SparkSession.builder.appName('DataUnderstanding').getOrCreate()"
   ]
  },
  {
   "cell_type": "code",
   "execution_count": 9,
   "metadata": {},
   "outputs": [
    {
     "name": "stdout",
     "output_type": "stream",
     "text": [
      "root\n",
      " |-- Make: string (nullable = true)\n",
      " |-- ManufactureYear: integer (nullable = true)\n",
      " |-- EngineModel: string (nullable = true)\n",
      " |-- DriverID: string (nullable = true)\n",
      " |-- StartTime: timestamp (nullable = true)\n",
      " |-- StopTime: timestamp (nullable = true)\n",
      " |-- DurationSec: integer (nullable = true)\n",
      " |-- DistanceKm: double (nullable = true)\n",
      " |-- FuelUsedL: double (nullable = true)\n",
      " |-- StartOdoKm: double (nullable = true)\n",
      " |-- IdleTimeSec: integer (nullable = true)\n",
      " |-- Loaded: integer (nullable = true)\n",
      " |-- Stops: integer (nullable = true)\n",
      " |-- MaxRPM: double (nullable = true)\n",
      "\n"
     ]
    }
   ],
   "source": [
    "df = spark.read.csv('Trip.csv', inferSchema=True, header=True)\n",
    "df.printSchema()"
   ]
  },
  {
   "cell_type": "code",
   "execution_count": 16,
   "metadata": {},
   "outputs": [
    {
     "name": "stdout",
     "output_type": "stream",
     "text": [
      "+-------+---------------+-----------+--------+--------------------+--------------------+-----------+----------+---------+----------+-----------+------+-----+------+\n",
      "|   Make|ManufactureYear|EngineModel|DriverID|           StartTime|            StopTime|DurationSec|DistanceKm|FuelUsedL|StartOdoKm|IdleTimeSec|Loaded|Stops|MaxRPM|\n",
      "+-------+---------------+-----------+--------+--------------------+--------------------+-----------+----------+---------+----------+-----------+------+-----+------+\n",
      "|No Make|           2015|     Type 6|    null|2019-07-27 04:39:...|2019-07-27 06:44:...|       7541|    200.47|    66.98| 963748.96|         74|     0|    2|1486.0|\n",
      "|No Make|           2015|     Type 6|    null|2019-07-16 06:57:...|2019-07-16 09:03:...|       7539|    201.76|    61.95|  956895.2|        162|     0|    3|1495.0|\n",
      "|No Make|           2015|     Type 6|    null|2019-05-14 02:35:...|2019-05-14 04:17:...|       6098|    163.59|  48.6099| 928565.52|        149|     0|    2|1413.0|\n",
      "|No Make|           2015|     Type 6|    null|2019-08-02 04:16:...|2019-08-02 06:27:...|       7878|    200.47|  72.6399| 967369.28|        121|     0|    3|1619.0|\n",
      "|No Make|           2015|     Type 6|    null|2019-08-06 05:32:...|2019-08-06 07:40:...|       7683|    200.56|    71.97|  969086.0|         71|     0|    3|1546.0|\n",
      "|No Make|           2015|     Type 6|    null|2019-08-02 10:13:...|2019-08-02 11:46:...|       5542|     146.4|  39.5999| 967756.72|        183|     0|    4|1527.0|\n",
      "|No Make|           2015|     Type 6|    null|2019-04-20 09:30:...|2019-04-20 10:56:...|       5145|    122.88|    39.77| 913978.96|        369|     0|    5|1466.0|\n",
      "|No Make|           2015|     Type 6|    null|2019-08-03 04:43:...|2019-08-03 06:51:...|       7695|     200.4|  69.3699| 968335.76|        103|     0|    3|1600.0|\n",
      "|No Make|           2015|     Type 6|    null|2019-08-15 07:04:...|2019-08-15 08:48:...|       6246|     154.4|  55.0599| 973514.88|        397|     0|    5|1458.0|\n",
      "|No Make|           2015|     Type 6|    null|2019-07-17 09:41:...|2019-07-17 11:02:...|       4849|    128.32|    36.91| 957973.84|        115|     0|    3|1532.0|\n",
      "|No Make|           2015|     Type 6|    null|2019-07-24 02:40:...|2019-07-24 04:31:...|       6638|    171.91|    53.62|  960888.4|        407|     0|    4|1534.0|\n",
      "|No Make|           2015|     Type 6|    null|2019-06-28 05:09:...|2019-06-28 07:19:...|       7800|    200.56|    70.67| 953707.84|        115|     0|    2|1540.0|\n",
      "|No Make|           2015|     Type 6|    null|2019-07-27 06:57:...|2019-07-27 08:47:...|       6574|    172.72|     61.8| 963949.44|        119|     0|    2|1570.0|\n",
      "|No Make|           2015|     Type 6|    null|2019-06-25 03:19:...|2019-06-25 05:09:...|       6620|    172.64|    56.55| 950650.24|        255|     0|    3|1493.0|\n",
      "|No Make|           2015|     Type 6|    null|2019-04-25 08:54:...|2019-04-25 11:04:...|       7767|    203.03|  58.9699| 916704.16|        225|     0|    5|1510.0|\n",
      "|No Make|           2015|     Type 6|    null|2019-05-23 09:09:...|2019-05-23 10:49:...|       6037|    157.43|     47.3| 936229.28|         66|     0|    2|1561.0|\n",
      "|No Make|           2015|     Type 6|    null|2019-04-27 09:55:...|2019-04-27 11:56:...|       7240|     200.0|  58.4499| 918700.64|         66|     0|    2|1525.0|\n",
      "|No Make|           2015|     Type 6|    null|2019-04-19 06:56:...|2019-04-19 10:24:...|      12484|    328.96|   112.99| 913020.72|        175|     0|    7|1649.0|\n",
      "|No Make|           2015|     Type 6|    null|2019-05-03 02:07:...|2019-05-03 04:18:...|       7815|    160.31|  54.6599|  921676.4|        557|     0|    6|1476.0|\n",
      "|No Make|           2015|     Type 6|    null|2019-04-30 04:36:...|2019-04-30 06:41:...|       7489|    205.35|    66.55| 919308.88|        108|     0|    1|1465.0|\n",
      "+-------+---------------+-----------+--------+--------------------+--------------------+-----------+----------+---------+----------+-----------+------+-----+------+\n",
      "only showing top 20 rows\n",
      "\n"
     ]
    }
   ],
   "source": [
    "df.show()"
   ]
  },
  {
   "cell_type": "code",
   "execution_count": 15,
   "metadata": {},
   "outputs": [
    {
     "name": "stdout",
     "output_type": "stream",
     "text": [
      "+-------+-------+------------------+-----------+--------+-----------------+------------------+-----------------+------------------+------------------+------+------------------+------------------+\n",
      "|summary|   Make|   ManufactureYear|EngineModel|DriverID|      DurationSec|        DistanceKm|        FuelUsedL|        StartOdoKm|       IdleTimeSec|Loaded|             Stops|            MaxRPM|\n",
      "+-------+-------+------------------+-----------+--------+-----------------+------------------+-----------------+------------------+------------------+------+------------------+------------------+\n",
      "|  count| 535680|            535680|     535680|       0|           535680|            535680|           535680|            535680|            535680|535680|            535680|            535680|\n",
      "|   mean|   null|2017.8056768966546|       null|    null| 8214.54866898148|290.45497647833537|87.43125818438573|472382.56054748176| 530.7741748805257|   0.0| 5.019220430107527|1493.7329935782557|\n",
      "| stddev|   null| 1.771336937768084|       null|    null|2136277.528373866|187.45151407878294|59.12349336840532| 335612.4908549756|5677.7872749720045|   0.0|4.3623398356797605|106.42463652708244|\n",
      "|    min| Make 1|              2001|    No Type|    null|      -1563517574|            100.01|           0.0099|              0.65|            -21408|     0|                 0|               0.0|\n",
      "|    max|No Make|              2020|     Type 9|    null|          3733975|           2499.47|          3163.79|        2045132.32|           3671005|     0|               181|            2553.0|\n",
      "+-------+-------+------------------+-----------+--------+-----------------+------------------+-----------------+------------------+------------------+------+------------------+------------------+\n",
      "\n"
     ]
    }
   ],
   "source": [
    "df.describe().show()"
   ]
  },
  {
   "cell_type": "code",
   "execution_count": 25,
   "metadata": {},
   "outputs": [
    {
     "name": "stdout",
     "output_type": "stream",
     "text": [
      "+-------+------+\n",
      "|   Make| count|\n",
      "+-------+------+\n",
      "| Make 1| 27830|\n",
      "| Make 2|  1836|\n",
      "| Make 3|  2288|\n",
      "|No Make|503726|\n",
      "+-------+------+\n",
      "\n"
     ]
    }
   ],
   "source": [
    "df.groupby(\"Make\").count().orderBy(\"Make\").show()"
   ]
  },
  {
   "cell_type": "code",
   "execution_count": 26,
   "metadata": {},
   "outputs": [
    {
     "name": "stdout",
     "output_type": "stream",
     "text": [
      "+-----------+------+\n",
      "|EngineModel| count|\n",
      "+-----------+------+\n",
      "|    No Type| 34558|\n",
      "|     Type 1|    16|\n",
      "|    Type 10|     3|\n",
      "|    Type 11|     6|\n",
      "|    Type 12|     6|\n",
      "|    Type 13|145474|\n",
      "|     Type 2|    12|\n",
      "|     Type 3|     4|\n",
      "|     Type 4|   615|\n",
      "|     Type 5|  4201|\n",
      "|     Type 6|307211|\n",
      "|     Type 7|    43|\n",
      "|     Type 8|    76|\n",
      "|     Type 9| 43455|\n",
      "+-----------+------+\n",
      "\n"
     ]
    }
   ],
   "source": [
    "df.groupby(\"EngineModel\").count().orderBy(\"EngineModel\").show()"
   ]
  },
  {
   "cell_type": "code",
   "execution_count": 22,
   "metadata": {},
   "outputs": [
    {
     "name": "stdout",
     "output_type": "stream",
     "text": [
      "+--------+------+\n",
      "|DriverID| count|\n",
      "+--------+------+\n",
      "|    null|535680|\n",
      "+--------+------+\n",
      "\n"
     ]
    }
   ],
   "source": [
    "df.groupby(\"DriverID\").count().show()"
   ]
  },
  {
   "cell_type": "code",
   "execution_count": 23,
   "metadata": {},
   "outputs": [
    {
     "name": "stdout",
     "output_type": "stream",
     "text": [
      "+------+------+\n",
      "|Loaded| count|\n",
      "+------+------+\n",
      "|     0|535680|\n",
      "+------+------+\n",
      "\n"
     ]
    }
   ],
   "source": [
    "df.groupby(\"Loaded\").count().show()"
   ]
  },
  {
   "cell_type": "code",
   "execution_count": null,
   "metadata": {},
   "outputs": [],
   "source": []
  }
 ],
 "metadata": {
  "kernelspec": {
   "display_name": "Python 3",
   "language": "python",
   "name": "python3"
  },
  "language_info": {
   "codemirror_mode": {
    "name": "ipython",
    "version": 3
   },
   "file_extension": ".py",
   "mimetype": "text/x-python",
   "name": "python",
   "nbconvert_exporter": "python",
   "pygments_lexer": "ipython3",
   "version": "3.5.2"
  }
 },
 "nbformat": 4,
 "nbformat_minor": 2
}
