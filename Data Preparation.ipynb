{
 "cells": [
  {
   "cell_type": "code",
   "execution_count": 2,
   "metadata": {},
   "outputs": [],
   "source": [
    "import findspark\n",
    "findspark.init('/home/ubuntu/spark-2.1.1-bin-hadoop2.7')\n",
    "import pyspark\n",
    "from pyspark.sql import SparkSession\n",
    "spark = SparkSession.builder.appName('DataPreparation').getOrCreate()"
   ]
  },
  {
   "cell_type": "code",
   "execution_count": 3,
   "metadata": {
    "scrolled": true
   },
   "outputs": [
    {
     "name": "stdout",
     "output_type": "stream",
     "text": [
      "root\n",
      " |-- Make: string (nullable = true)\n",
      " |-- ManufactureYear: integer (nullable = true)\n",
      " |-- EngineModel: string (nullable = true)\n",
      " |-- DriverID: string (nullable = true)\n",
      " |-- StartTime: timestamp (nullable = true)\n",
      " |-- StopTime: timestamp (nullable = true)\n",
      " |-- DurationSec: integer (nullable = true)\n",
      " |-- DistanceKm: double (nullable = true)\n",
      " |-- FuelUsedL: double (nullable = true)\n",
      " |-- StartOdoKm: double (nullable = true)\n",
      " |-- IdleTimeSec: integer (nullable = true)\n",
      " |-- Loaded: integer (nullable = true)\n",
      " |-- Stops: integer (nullable = true)\n",
      " |-- MaxRPM: double (nullable = true)\n",
      "\n"
     ]
    }
   ],
   "source": [
    "df = spark.read.csv('Trip.csv', inferSchema=True, header=True)\n",
    "df.printSchema()"
   ]
  },
  {
   "cell_type": "code",
   "execution_count": 4,
   "metadata": {},
   "outputs": [
    {
     "data": {
      "text/plain": [
       "527991"
      ]
     },
     "execution_count": 4,
     "metadata": {},
     "output_type": "execute_result"
    }
   ],
   "source": [
    "#Remove invalid and extreme DurationSec observations\n",
    "df2 = df.filter(\"DurationSec > 0\").filter(\"DurationSec < 35000\")\n",
    "df2.count()"
   ]
  },
  {
   "cell_type": "code",
   "execution_count": 5,
   "metadata": {},
   "outputs": [
    {
     "data": {
      "text/plain": [
       "526058"
      ]
     },
     "execution_count": 5,
     "metadata": {},
     "output_type": "execute_result"
    }
   ],
   "source": [
    "#Remove invalid and extreme IdleTimeSec observations\n",
    "df3 = df2.filter(\"IdleTimeSec > 0\").filter(\"IdleTimeSec < 5000\")\n",
    "df3.count()"
   ]
  },
  {
   "cell_type": "code",
   "execution_count": 6,
   "metadata": {},
   "outputs": [
    {
     "data": {
      "text/plain": [
       "492497"
      ]
     },
     "execution_count": 6,
     "metadata": {},
     "output_type": "execute_result"
    }
   ],
   "source": [
    "#Remove invalid and extreme ManufactureYear observations\n",
    "df4 = df3.filter(\"ManufactureYear > 2001\").filter(\"ManufactureYear < 2020\")\n",
    "df4.count()"
   ]
  },
  {
   "cell_type": "code",
   "execution_count": 7,
   "metadata": {},
   "outputs": [
    {
     "name": "stdout",
     "output_type": "stream",
     "text": [
      "+-----------+------+\n",
      "|EngineModel| count|\n",
      "+-----------+------+\n",
      "|     Type 6|298362|\n",
      "|    Type 13|145289|\n",
      "|     Type 9| 42957|\n",
      "|     Type 5|  4187|\n",
      "|    No Type|   921|\n",
      "|     Type 4|   615|\n",
      "|     Type 8|    76|\n",
      "|     Type 7|    43|\n",
      "|     Type 1|    16|\n",
      "|     Type 2|    12|\n",
      "|    Type 11|     6|\n",
      "|    Type 12|     6|\n",
      "|     Type 3|     4|\n",
      "|    Type 10|     3|\n",
      "+-----------+------+\n",
      "\n"
     ]
    }
   ],
   "source": [
    "df4.groupby(\"EngineModel\").count().orderBy(\"count\", ascending=False).show()"
   ]
  },
  {
   "cell_type": "code",
   "execution_count": 8,
   "metadata": {},
   "outputs": [
    {
     "name": "stdout",
     "output_type": "stream",
     "text": [
      "+-----------+------+\n",
      "|EngineModel| count|\n",
      "+-----------+------+\n",
      "|     Type 6|298362|\n",
      "|    Type 13|145289|\n",
      "|     Type 5|  4187|\n",
      "|     Type 4|   615|\n",
      "|     Type 8|    76|\n",
      "|     Type 7|    43|\n",
      "+-----------+------+\n",
      "\n"
     ]
    }
   ],
   "source": [
    "from pyspark.sql.functions import col\n",
    "df5 = df4.where(col(\"EngineModel\").isin({\"Type 6\", \"Type 13\", \"Type 5\", \"Type 4\", \"Type 8\", \"Type 7\"}))\n",
    "df5.groupby(\"EngineModel\").count().orderBy(\"count\", ascending=False).show()"
   ]
  },
  {
   "cell_type": "code",
   "execution_count": 9,
   "metadata": {},
   "outputs": [
    {
     "name": "stdout",
     "output_type": "stream",
     "text": [
      "+-------+------+\n",
      "|   Make| count|\n",
      "+-------+------+\n",
      "|No Make|422373|\n",
      "| Make 1| 23807|\n",
      "| Make 2|  1836|\n",
      "| Make 3|   556|\n",
      "+-------+------+\n",
      "\n"
     ]
    }
   ],
   "source": [
    "df5.groupby(\"Make\").count().orderBy(\"count\", ascending=False).show()"
   ]
  },
  {
   "cell_type": "code",
   "execution_count": 10,
   "metadata": {},
   "outputs": [
    {
     "data": {
      "text/plain": [
       "448369"
      ]
     },
     "execution_count": 10,
     "metadata": {},
     "output_type": "execute_result"
    }
   ],
   "source": [
    "df6 = df5.filter(\"DistanceKm < 800\").filter(\"DistanceKm > 0\")\n",
    "df6.count()"
   ]
  },
  {
   "cell_type": "code",
   "execution_count": 11,
   "metadata": {},
   "outputs": [
    {
     "data": {
      "text/plain": [
       "448265"
      ]
     },
     "execution_count": 11,
     "metadata": {},
     "output_type": "execute_result"
    }
   ],
   "source": [
    "df7 = df6.filter(\"FuelUsedL < 250\")\n",
    "df7.count()"
   ]
  },
  {
   "cell_type": "code",
   "execution_count": 12,
   "metadata": {},
   "outputs": [
    {
     "data": {
      "text/plain": [
       "448173"
      ]
     },
     "execution_count": 12,
     "metadata": {},
     "output_type": "execute_result"
    }
   ],
   "source": [
    "df8 = df7.filter(\"MaxRPM < 2500\").filter(\"MaxRPM > 1250\")\n",
    "df8.count()"
   ]
  },
  {
   "cell_type": "code",
   "execution_count": 13,
   "metadata": {},
   "outputs": [
    {
     "data": {
      "text/plain": [
       "438754"
      ]
     },
     "execution_count": 13,
     "metadata": {},
     "output_type": "execute_result"
    }
   ],
   "source": [
    "df9 = df8.filter(\"Stops < 15\")\n",
    "df9.count()"
   ]
  },
  {
   "cell_type": "code",
   "execution_count": 14,
   "metadata": {
    "scrolled": true
   },
   "outputs": [
    {
     "name": "stdout",
     "output_type": "stream",
     "text": [
      "root\n",
      " |-- Make: string (nullable = true)\n",
      " |-- ManufactureYear: integer (nullable = true)\n",
      " |-- EngineModel: string (nullable = true)\n",
      " |-- StartTime: timestamp (nullable = true)\n",
      " |-- StopTime: timestamp (nullable = true)\n",
      " |-- DurationSec: integer (nullable = true)\n",
      " |-- DistanceKm: double (nullable = true)\n",
      " |-- FuelUsedL: double (nullable = true)\n",
      " |-- StartOdoKm: double (nullable = true)\n",
      " |-- IdleTimeSec: integer (nullable = true)\n",
      " |-- Stops: integer (nullable = true)\n",
      " |-- MaxRPM: double (nullable = true)\n",
      "\n"
     ]
    }
   ],
   "source": [
    "df10 = df9.drop(\"DriverID\")\n",
    "df11 = df10.drop(\"Loaded\")\n",
    "df11.printSchema()"
   ]
  },
  {
   "cell_type": "code",
   "execution_count": 15,
   "metadata": {},
   "outputs": [
    {
     "data": {
      "text/plain": [
       "438754"
      ]
     },
     "execution_count": 15,
     "metadata": {},
     "output_type": "execute_result"
    }
   ],
   "source": [
    "df12 = df11.na.drop()\n",
    "df12.count()"
   ]
  },
  {
   "cell_type": "code",
   "execution_count": 16,
   "metadata": {},
   "outputs": [
    {
     "name": "stdout",
     "output_type": "stream",
     "text": [
      "root\n",
      " |-- Make: string (nullable = true)\n",
      " |-- ManufactureYear: integer (nullable = true)\n",
      " |-- EngineModel: string (nullable = true)\n",
      " |-- StartTime: timestamp (nullable = true)\n",
      " |-- StopTime: timestamp (nullable = true)\n",
      " |-- DurationSec: integer (nullable = true)\n",
      " |-- DistanceKm: double (nullable = true)\n",
      " |-- FuelUsedL: double (nullable = true)\n",
      " |-- StartOdoKm: double (nullable = true)\n",
      " |-- IdleTimeSec: integer (nullable = true)\n",
      " |-- Stops: integer (nullable = true)\n",
      " |-- MaxRPM: double (nullable = true)\n",
      "\n"
     ]
    }
   ],
   "source": [
    "df12.printSchema()"
   ]
  },
  {
   "cell_type": "code",
   "execution_count": 17,
   "metadata": {},
   "outputs": [
    {
     "name": "stdout",
     "output_type": "stream",
     "text": [
      "+-----------+------+\n",
      "|EngineModel| count|\n",
      "+-----------+------+\n",
      "|     Type 6|291746|\n",
      "|    Type 13|142225|\n",
      "|     Type 5|  4085|\n",
      "|     Type 4|   611|\n",
      "|     Type 8|    64|\n",
      "|     Type 7|    23|\n",
      "+-----------+------+\n",
      "\n"
     ]
    }
   ],
   "source": [
    "df12.groupby(\"EngineModel\").count().orderBy(\"count\", ascending=False).show()"
   ]
  },
  {
   "cell_type": "code",
   "execution_count": 18,
   "metadata": {},
   "outputs": [
    {
     "data": {
      "text/plain": [
       "291746"
      ]
     },
     "execution_count": 18,
     "metadata": {},
     "output_type": "execute_result"
    }
   ],
   "source": [
    "from pyspark.sql.functions import lit\n",
    "type6 = df12.where(col(\"EngineModel\").isin({\"Type 6\"})).withColumn(\"EngineModelNum\",lit(6))\n",
    "type6.count()"
   ]
  },
  {
   "cell_type": "code",
   "execution_count": 19,
   "metadata": {},
   "outputs": [
    {
     "data": {
      "text/plain": [
       "142225"
      ]
     },
     "execution_count": 19,
     "metadata": {},
     "output_type": "execute_result"
    }
   ],
   "source": [
    "type13 = df12.where(col(\"EngineModel\").isin({\"Type 13\"})).withColumn(\"EngineModelNum\",lit(13))\n",
    "type13.count()"
   ]
  },
  {
   "cell_type": "code",
   "execution_count": 20,
   "metadata": {},
   "outputs": [
    {
     "data": {
      "text/plain": [
       "4085"
      ]
     },
     "execution_count": 20,
     "metadata": {},
     "output_type": "execute_result"
    }
   ],
   "source": [
    "type5 = df12.where(col(\"EngineModel\").isin({\"Type 5\"})).withColumn(\"EngineModelNum\",lit(5))\n",
    "type5.count()"
   ]
  },
  {
   "cell_type": "code",
   "execution_count": 21,
   "metadata": {},
   "outputs": [
    {
     "data": {
      "text/plain": [
       "611"
      ]
     },
     "execution_count": 21,
     "metadata": {},
     "output_type": "execute_result"
    }
   ],
   "source": [
    "type4 = df12.where(col(\"EngineModel\").isin({\"Type 4\"})).withColumn(\"EngineModelNum\",lit(4))\n",
    "type4.count()"
   ]
  },
  {
   "cell_type": "code",
   "execution_count": 22,
   "metadata": {},
   "outputs": [
    {
     "data": {
      "text/plain": [
       "64"
      ]
     },
     "execution_count": 22,
     "metadata": {},
     "output_type": "execute_result"
    }
   ],
   "source": [
    "type8 = df12.where(col(\"EngineModel\").isin({\"Type 8\"})).withColumn(\"EngineModelNum\",lit(8))\n",
    "type8.count()"
   ]
  },
  {
   "cell_type": "code",
   "execution_count": 23,
   "metadata": {},
   "outputs": [
    {
     "data": {
      "text/plain": [
       "23"
      ]
     },
     "execution_count": 23,
     "metadata": {},
     "output_type": "execute_result"
    }
   ],
   "source": [
    "type7 = df12.where(col(\"EngineModel\").isin({\"Type 7\"})).withColumn(\"EngineModelNum\",lit(7))\n",
    "type7.count()"
   ]
  },
  {
   "cell_type": "code",
   "execution_count": 24,
   "metadata": {},
   "outputs": [
    {
     "data": {
      "text/plain": [
       "291651"
      ]
     },
     "execution_count": 24,
     "metadata": {},
     "output_type": "execute_result"
    }
   ],
   "source": [
    "type13_2 = type13.sample(True, 291746/142225, 100)\n",
    "type13_2.count()"
   ]
  },
  {
   "cell_type": "code",
   "execution_count": 25,
   "metadata": {},
   "outputs": [
    {
     "data": {
      "text/plain": [
       "291460"
      ]
     },
     "execution_count": 25,
     "metadata": {},
     "output_type": "execute_result"
    }
   ],
   "source": [
    "type5_2 = type5.sample(True, 291746/4085, 100)\n",
    "type5_2.count()"
   ]
  },
  {
   "cell_type": "code",
   "execution_count": 26,
   "metadata": {},
   "outputs": [
    {
     "data": {
      "text/plain": [
       "291934"
      ]
     },
     "execution_count": 26,
     "metadata": {},
     "output_type": "execute_result"
    }
   ],
   "source": [
    "type4_2 = type4.sample(True, 291746/611, 100)\n",
    "type4_2.count()"
   ]
  },
  {
   "cell_type": "code",
   "execution_count": 27,
   "metadata": {},
   "outputs": [
    {
     "data": {
      "text/plain": [
       "292418"
      ]
     },
     "execution_count": 27,
     "metadata": {},
     "output_type": "execute_result"
    }
   ],
   "source": [
    "type8_2 = type8.sample(True, 291746/64, 100)\n",
    "type8_2.count()"
   ]
  },
  {
   "cell_type": "code",
   "execution_count": 28,
   "metadata": {},
   "outputs": [
    {
     "data": {
      "text/plain": [
       "291542"
      ]
     },
     "execution_count": 28,
     "metadata": {},
     "output_type": "execute_result"
    }
   ],
   "source": [
    "type7_2 = type7.sample(True, 291746/23, 100)\n",
    "type7_2.count()"
   ]
  },
  {
   "cell_type": "code",
   "execution_count": 29,
   "metadata": {},
   "outputs": [
    {
     "name": "stdout",
     "output_type": "stream",
     "text": [
      "+-----------+------+\n",
      "|EngineModel| count|\n",
      "+-----------+------+\n",
      "|     Type 8|292418|\n",
      "|     Type 4|291934|\n",
      "|     Type 6|291746|\n",
      "|    Type 13|291651|\n",
      "|     Type 7|291542|\n",
      "|     Type 5|291460|\n",
      "+-----------+------+\n",
      "\n"
     ]
    }
   ],
   "source": [
    "dfAll = type6.union(type13_2).union(type5_2).union(type4_2).union(type8_2).union(type7_2)\n",
    "dfAll.groupby(\"EngineModel\").count().orderBy(\"count\", ascending=False).show()"
   ]
  },
  {
   "cell_type": "code",
   "execution_count": 30,
   "metadata": {
    "scrolled": false
   },
   "outputs": [
    {
     "data": {
      "text/plain": [
       "Row(Make='No Make', ManufactureYear=2015, EngineModel='Type 6', StartTime=datetime.datetime(2019, 7, 27, 4, 39, 15), StopTime=datetime.datetime(2019, 7, 27, 6, 44, 56), DurationSec=7541, DistanceKm=200.47, FuelUsedL=66.98, StartOdoKm=963748.96, IdleTimeSec=74, Stops=2, MaxRPM=1486.0, EngineModelNum=6, FuelEfficiency=2.9929829799940277)"
      ]
     },
     "execution_count": 30,
     "metadata": {},
     "output_type": "execute_result"
    }
   ],
   "source": [
    "dfAll2 = dfAll.select('*', (dfAll.DistanceKm/dfAll.FuelUsedL).alias('FuelEfficiency'))\n",
    "dfAll2.head()"
   ]
  },
  {
   "cell_type": "code",
   "execution_count": 31,
   "metadata": {},
   "outputs": [
    {
     "name": "stdout",
     "output_type": "stream",
     "text": [
      "root\n",
      " |-- Make: string (nullable = true)\n",
      " |-- ManufactureYear: integer (nullable = true)\n",
      " |-- EngineModel: string (nullable = true)\n",
      " |-- StartTime: timestamp (nullable = true)\n",
      " |-- StopTime: timestamp (nullable = true)\n",
      " |-- DurationSec: integer (nullable = true)\n",
      " |-- DistanceKm: double (nullable = true)\n",
      " |-- FuelUsedL: double (nullable = true)\n",
      " |-- StartOdoKm: double (nullable = true)\n",
      " |-- IdleTimeSec: integer (nullable = true)\n",
      " |-- Stops: integer (nullable = true)\n",
      " |-- MaxRPM: double (nullable = true)\n",
      " |-- EngineModelNum: integer (nullable = false)\n",
      " |-- FuelEfficiency: double (nullable = true)\n",
      "\n"
     ]
    }
   ],
   "source": [
    "from pyspark.sql.types import IntegerType\n",
    "dfAll2 = dfAll2.withColumn(\"EngineModelNum\", dfAll2[\"EngineModelNum\"].cast(IntegerType()))\n",
    "dfAll2.printSchema()"
   ]
  },
  {
   "cell_type": "code",
   "execution_count": 32,
   "metadata": {},
   "outputs": [
    {
     "name": "stdout",
     "output_type": "stream",
     "text": [
      "root\n",
      " |-- ManufactureYear: integer (nullable = true)\n",
      " |-- EngineModel: string (nullable = true)\n",
      " |-- StartTime: timestamp (nullable = true)\n",
      " |-- StopTime: timestamp (nullable = true)\n",
      " |-- DurationSec: integer (nullable = true)\n",
      " |-- DistanceKm: double (nullable = true)\n",
      " |-- FuelUsedL: double (nullable = true)\n",
      " |-- StartOdoKm: double (nullable = true)\n",
      " |-- IdleTimeSec: integer (nullable = true)\n",
      " |-- Stops: integer (nullable = true)\n",
      " |-- MaxRPM: double (nullable = true)\n",
      " |-- EngineModelNum: integer (nullable = false)\n",
      " |-- FuelEfficiency: double (nullable = true)\n",
      "\n"
     ]
    }
   ],
   "source": [
    "dfAll3 = dfAll2.drop(\"Make\")\n",
    "dfAll3.printSchema()"
   ]
  },
  {
   "cell_type": "code",
   "execution_count": 33,
   "metadata": {},
   "outputs": [
    {
     "name": "stdout",
     "output_type": "stream",
     "text": [
      "root\n",
      " |-- ManufactureYear: integer (nullable = true)\n",
      " |-- StartTime: timestamp (nullable = true)\n",
      " |-- StopTime: timestamp (nullable = true)\n",
      " |-- DurationSec: integer (nullable = true)\n",
      " |-- DistanceKm: double (nullable = true)\n",
      " |-- StartOdoKm: double (nullable = true)\n",
      " |-- IdleTimeSec: integer (nullable = true)\n",
      " |-- Stops: integer (nullable = true)\n",
      " |-- MaxRPM: double (nullable = true)\n",
      " |-- EngineModelNum: integer (nullable = false)\n",
      " |-- FuelEfficiency: double (nullable = true)\n",
      "\n"
     ]
    }
   ],
   "source": [
    "dfAll4 = dfAll3.drop(\"FuelUsedL\")\n",
    "dfAll5 = dfAll4.drop(\"EngineModel\")\n",
    "dfAll5.printSchema()"
   ]
  },
  {
   "cell_type": "code",
   "execution_count": 34,
   "metadata": {},
   "outputs": [
    {
     "data": {
      "text/plain": [
       "67700.0"
      ]
     },
     "execution_count": 34,
     "metadata": {},
     "output_type": "execute_result"
    }
   ],
   "source": [
    "dfAll5.agg({\"FuelEfficiency\": \"max\"}).collect()[0][0]"
   ]
  },
  {
   "cell_type": "code",
   "execution_count": 35,
   "metadata": {},
   "outputs": [
    {
     "data": {
      "text/plain": [
       "50"
      ]
     },
     "execution_count": 35,
     "metadata": {},
     "output_type": "execute_result"
    }
   ],
   "source": [
    "dfAll5.filter(\"FuelEfficiency > 10\").count()"
   ]
  },
  {
   "cell_type": "code",
   "execution_count": 36,
   "metadata": {},
   "outputs": [],
   "source": [
    "dfAll6 = dfAll5.filter(\"FuelEfficiency < 10\")"
   ]
  },
  {
   "cell_type": "code",
   "execution_count": 58,
   "metadata": {},
   "outputs": [],
   "source": [
    "from pyspark.sql.functions import hour\n",
    "final = dfAll6.select('ManufactureYear'\n",
    "                      ,hour('StartTime').alias('StartTimeHour')\n",
    "                      ,hour('StopTime').alias('StopTimeHour')\n",
    "                      ,'DurationSec'\n",
    "                      ,'StartOdoKm'\n",
    "                      ,'IdleTimeSec'\n",
    "                      ,'Stops'\n",
    "                      ,'MaxRPM'\n",
    "                      ,'EngineModelNum'\n",
    "                      ,col('FuelEfficiency').alias('label'))"
   ]
  }
 ],
 "metadata": {
  "kernelspec": {
   "display_name": "Python 3",
   "language": "python",
   "name": "python3"
  },
  "language_info": {
   "codemirror_mode": {
    "name": "ipython",
    "version": 3
   },
   "file_extension": ".py",
   "mimetype": "text/x-python",
   "name": "python",
   "nbconvert_exporter": "python",
   "pygments_lexer": "ipython3",
   "version": "3.5.2"
  }
 },
 "nbformat": 4,
 "nbformat_minor": 2
}
